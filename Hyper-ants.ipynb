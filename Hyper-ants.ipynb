{
 "cells": [
  {
   "cell_type": "markdown",
   "metadata": {},
   "source": [
    "# Hyper-ants: ants traveling in hyperspace\n",
    "\n",
    "An ant is at the origin in n-dimensional Euclidean space, and is about\n",
    "to traverse teh edges of a hypercube with sides of unit length. At each \n",
    "vertex, the ant randomly chooses an edge, and moves to the next vertex.\n",
    "On average, how far will the ant travel until it reaches (1,1,...,1)?"
   ]
  },
  {
   "cell_type": "code",
   "execution_count": 1,
   "metadata": {},
   "outputs": [
    {
     "data": {
      "text/plain": [
       "{3: 245,\n",
       " 5: 151,\n",
       " 7: 126,\n",
       " 9: 118,\n",
       " 11: 80,\n",
       " 13: 53,\n",
       " 15: 65,\n",
       " 17: 42,\n",
       " 19: 24,\n",
       " 21: 22,\n",
       " 23: 14,\n",
       " 25: 11,\n",
       " 27: 13,\n",
       " 29: 8,\n",
       " 31: 9,\n",
       " 33: 2,\n",
       " 35: 4,\n",
       " 37: 3,\n",
       " 41: 1,\n",
       " 43: 1,\n",
       " 45: 3,\n",
       " 51: 2,\n",
       " 53: 1,\n",
       " 59: 1,\n",
       " 61: 1}"
      ]
     },
     "execution_count": 1,
     "metadata": {},
     "output_type": "execute_result"
    }
   ],
   "source": [
    "#Monte Carlo simulation\n",
    "\n",
    "from random import randint\n",
    "\n",
    "def number_of_moves(dimension):\n",
    "    # return the number of moves needed for one simulated trip by the ant.\n",
    "    vertex = [0] * dimension #3D:(0,0,0)\n",
    "    move_count = 0\n",
    "    while sum(vertex) < dimension:\n",
    "        axis_choice = randint(0, dimension - 1) #axis position(A0,A1,A2)\n",
    "#         if vertex[axis_choice] == 0:\n",
    "#             vertex[axis_choice] = 1\n",
    "#         else:\n",
    "#             vertex[axis_choice] = 0\n",
    "        vertex[axis_choice] = 1 - vertex[axis_choice] #(1,1,0)-->(1,0,0) OR (1,0,0)-->(1,1,0)\n",
    "        move_count += 1\n",
    "    return move_count\n",
    "\n",
    "number_of_trials = 1000\n",
    "sum([number_of_moves(3) for i in range(number_of_trials)])/number_of_trials\n",
    "\n",
    "# make a dictionary\n",
    "trials = [number_of_moves(3) for i in range(number_of_trials)]\n",
    "# initialize dictionary to count frequency of number of moves\n",
    "number_moves_count = {t:0 for t in trials}\n",
    "\n",
    "for t in trials:\n",
    "    number_moves_count[t] += 1\n",
    "\n",
    "number_moves_count"
   ]
  },
  {
   "cell_type": "code",
   "execution_count": null,
   "metadata": {
    "collapsed": true
   },
   "outputs": [],
   "source": []
  },
  {
   "cell_type": "code",
   "execution_count": null,
   "metadata": {
    "collapsed": true
   },
   "outputs": [],
   "source": []
  },
  {
   "cell_type": "code",
   "execution_count": null,
   "metadata": {
    "collapsed": true
   },
   "outputs": [],
   "source": []
  }
 ],
 "metadata": {
  "kernelspec": {
   "display_name": "Python 3",
   "language": "python",
   "name": "python3"
  },
  "language_info": {
   "codemirror_mode": {
    "name": "ipython",
    "version": 3
   },
   "file_extension": ".py",
   "mimetype": "text/x-python",
   "name": "python",
   "nbconvert_exporter": "python",
   "pygments_lexer": "ipython3",
   "version": "3.6.1"
  }
 },
 "nbformat": 4,
 "nbformat_minor": 2
}
