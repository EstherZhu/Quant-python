{
 "cells": [
  {
   "cell_type": "markdown",
   "metadata": {},
   "source": [
    "# Hyper-ants: ants traveling in hyperspace\n",
    "\n",
    "An ant is at the origin in n-dimensional Euclidean space, and is about\n",
    "to traverse teh edges of a hypercube with sides of unit length. At each \n",
    "vertex, the ant randomly chooses an edge, and moves to the next vertex.\n",
    "On average, how far will the ant travel until it reaches (1,1,...,1)?"
   ]
  },
  {
   "cell_type": "code",
   "execution_count": 48,
   "metadata": {},
   "outputs": [
    {
     "data": {
      "text/plain": [
       "{3: 225,\n",
       " 5: 165,\n",
       " 7: 128,\n",
       " 9: 118,\n",
       " 11: 99,\n",
       " 13: 52,\n",
       " 15: 49,\n",
       " 17: 41,\n",
       " 19: 31,\n",
       " 21: 15,\n",
       " 23: 19,\n",
       " 25: 12,\n",
       " 27: 10,\n",
       " 29: 5,\n",
       " 31: 7,\n",
       " 33: 3,\n",
       " 35: 6,\n",
       " 37: 1,\n",
       " 39: 2,\n",
       " 41: 2,\n",
       " 43: 2,\n",
       " 47: 2,\n",
       " 49: 2,\n",
       " 55: 1,\n",
       " 57: 2,\n",
       " 61: 1}"
      ]
     },
     "execution_count": 48,
     "metadata": {},
     "output_type": "execute_result"
    }
   ],
   "source": [
    "#Monte Carlo simulation\n",
    "\n",
    "from random import randint\n",
    "\n",
    "def number_of_moves(dimension):\n",
    "    # return the number of moves needed for one simulated trip by the ant.\n",
    "    vertex = [0] * dimension #3D:(0,0,0)\n",
    "    move_count = 0\n",
    "    while sum(vertex) < dimension:\n",
    "        axis_choice = randint(0, dimension - 1) #axis position(A0,A1,A2)\n",
    "#         if vertex[axis_choice] == 0:\n",
    "#             vertex[axis_choice] = 1\n",
    "#         else:\n",
    "#             vertex[axis_choice] = 0\n",
    "        vertex[axis_choice] = 1 - vertex[axis_choice] #(1,1,0)-->(1,0,0) OR (1,0,0)-->(1,1,0)\n",
    "        move_count += 1\n",
    "    return move_count\n",
    "\n",
    "number_of_trials = 1000\n",
    "sum([number_of_moves(3) for i in range(number_of_trials)])/number_of_trials\n",
    "\n",
    "# make a dictionary\n",
    "trials = [number_of_moves(3) for i in range(number_of_trials)]\n",
    "# initialize dictionary to count frequency of number of moves\n",
    "number_moves_count = {t:0 for t in trials}\n",
    "\n",
    "for trial in trials:\n",
    "    number_moves_count[trial] += 1\n",
    "\n",
    "number_moves_count"
   ]
  },
  {
   "cell_type": "code",
   "execution_count": null,
   "metadata": {
    "collapsed": true
   },
   "outputs": [],
   "source": []
  },
  {
   "cell_type": "code",
   "execution_count": null,
   "metadata": {
    "collapsed": true
   },
   "outputs": [],
   "source": []
  },
  {
   "cell_type": "code",
   "execution_count": null,
   "metadata": {
    "collapsed": true
   },
   "outputs": [],
   "source": []
  }
 ],
 "metadata": {
  "kernelspec": {
   "display_name": "Python 3",
   "language": "python",
   "name": "python3"
  },
  "language_info": {
   "codemirror_mode": {
    "name": "ipython",
    "version": 3
   },
   "file_extension": ".py",
   "mimetype": "text/x-python",
   "name": "python",
   "nbconvert_exporter": "python",
   "pygments_lexer": "ipython3",
   "version": "3.6.1"
  }
 },
 "nbformat": 4,
 "nbformat_minor": 2
}
